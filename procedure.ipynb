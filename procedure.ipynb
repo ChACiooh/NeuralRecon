{
 "cells": [
  {
   "cell_type": "code",
   "execution_count": 10,
   "metadata": {},
   "outputs": [
    {
     "name": "stdout",
     "output_type": "stream",
     "text": [
      "Fri May 13 09:59:38 2022       \n",
      "+-----------------------------------------------------------------------------+\n",
      "| NVIDIA-SMI 470.57.02    Driver Version: 470.57.02    CUDA Version: 11.4     |\n",
      "|-------------------------------+----------------------+----------------------+\n",
      "| GPU  Name        Persistence-M| Bus-Id        Disp.A | Volatile Uncorr. ECC |\n",
      "| Fan  Temp  Perf  Pwr:Usage/Cap|         Memory-Usage | GPU-Util  Compute M. |\n",
      "|                               |                      |               MIG M. |\n",
      "|===============================+======================+======================|\n",
      "|   0  NVIDIA A100-PCI...  On   | 00000000:00:06.0 Off |                  Off |\n",
      "| N/A   34C    P0    33W / 250W |      0MiB / 40536MiB |      0%      Default |\n",
      "|                               |                      |             Disabled |\n",
      "+-------------------------------+----------------------+----------------------+\n",
      "|   1  NVIDIA A100-PCI...  On   | 00000000:00:07.0 Off |                  Off |\n",
      "| N/A   37C    P0    34W / 250W |      0MiB / 40536MiB |      0%      Default |\n",
      "|                               |                      |             Disabled |\n",
      "+-------------------------------+----------------------+----------------------+\n",
      "                                                                               \n",
      "+-----------------------------------------------------------------------------+\n",
      "| Processes:                                                                  |\n",
      "|  GPU   GI   CI        PID   Type   Process name                  GPU Memory |\n",
      "|        ID   ID                                                   Usage      |\n",
      "|=============================================================================|\n",
      "|  No running processes found                                                 |\n",
      "+-----------------------------------------------------------------------------+\n"
     ]
    }
   ],
   "source": [
    "!nvidia-smi"
   ]
  },
  {
   "cell_type": "code",
   "execution_count": 39,
   "metadata": {},
   "outputs": [],
   "source": [
    "import os\n",
    "os.environ[\"CUDA_DEVICE_ORDER\"] = \"PCI_BUS_ID\"\n",
    "os.environ[\"CUDA_VISIBLE_DEVICES\"]=\"1\""
   ]
  },
  {
   "cell_type": "code",
   "execution_count": 4,
   "metadata": {},
   "outputs": [
    {
     "name": "stderr",
     "output_type": "stream",
     "text": [
      "/usr/local/lib/python3.8/dist-packages/tqdm/auto.py:22: TqdmWarning: IProgress not found. Please update jupyter and ipywidgets. See https://ipywidgets.readthedocs.io/en/stable/user_install.html\n",
      "  from .autonotebook import tqdm as notebook_tqdm\n"
     ]
    },
    {
     "data": {
      "text/plain": [
       "True"
      ]
     },
     "execution_count": 4,
     "metadata": {},
     "output_type": "execute_result"
    }
   ],
   "source": [
    "import torch\n",
    "torch.cuda.is_available()"
   ]
  },
  {
   "cell_type": "code",
   "execution_count": 1,
   "metadata": {},
   "outputs": [
    {
     "name": "stdout",
     "output_type": "stream",
     "text": [
      "320\n"
     ]
    }
   ],
   "source": [
    "import os\n",
    "import sys\n",
    "os.system('ps aux | grep ray > aux_result.txt')\n",
    "\n",
    "with open('aux_result.txt', 'r') as f:\n",
    "    result = f.readlines()\n",
    "\n",
    "print(len(result))"
   ]
  },
  {
   "cell_type": "code",
   "execution_count": 9,
   "metadata": {},
   "outputs": [
    {
     "name": "stdout",
     "output_type": "stream",
     "text": [
      "ret: 0\n",
      "ret: 0\n",
      "ret: 0\n",
      "ret: 0\n",
      "ret: 0\n",
      "ret: 0\n",
      "ret: 0\n",
      "ret: 0\n",
      "ret: 0\n",
      "ret: 0\n",
      "ret: 0\n",
      "ret: 0\n",
      "ret: 0\n",
      "ret: 0\n",
      "ret: 0\n",
      "ret: 0\n",
      "ret: 0\n",
      "ret: 0\n",
      "ret: 0\n",
      "ret: 0\n",
      "ret: 0\n",
      "ret: 0\n",
      "ret: 0\n",
      "ret: 0\n",
      "ret: 0\n",
      "ret: 0\n",
      "ret: 0\n",
      "ret: 0\n",
      "ret: 0\n",
      "ret: 0\n",
      "ret: 0\n",
      "ret: 0\n",
      "ret: 0\n",
      "ret: 0\n",
      "ret: 0\n",
      "ret: 0\n",
      "ret: 0\n",
      "ret: 0\n",
      "ret: 0\n",
      "ret: 0\n",
      "ret: 0\n",
      "ret: 0\n",
      "ret: 0\n",
      "ret: 0\n",
      "ret: 0\n",
      "ret: 0\n",
      "ret: 0\n",
      "ret: 0\n",
      "ret: 0\n",
      "ret: 0\n",
      "ret: 0\n",
      "ret: 0\n",
      "ret: 0\n",
      "ret: 0\n",
      "ret: 0\n",
      "ret: 0\n",
      "ret: 0\n",
      "ret: 0\n",
      "ret: 0\n",
      "ret: 0\n",
      "ret: 0\n",
      "ret: 0\n",
      "ret: 0\n",
      "ret: 0\n",
      "ret: 0\n",
      "ret: 0\n",
      "ret: 0\n",
      "ret: 0\n",
      "ret: 0\n",
      "ret: 0\n",
      "ret: 0\n",
      "ret: 0\n",
      "ret: 0\n",
      "ret: 0\n",
      "ret: 0\n",
      "ret: 0\n",
      "ret: 0\n",
      "ret: 0\n",
      "ret: 0\n",
      "ret: 0\n",
      "ret: 0\n",
      "ret: 0\n",
      "ret: 0\n",
      "ret: 0\n",
      "ret: 0\n",
      "ret: 0\n",
      "ret: 0\n",
      "ret: 0\n",
      "ret: 0\n",
      "ret: 0\n",
      "ret: 0\n",
      "ret: 0\n",
      "ret: 0\n",
      "ret: 0\n",
      "ret: 0\n",
      "ret: 0\n",
      "ret: 0\n",
      "ret: 0\n",
      "ret: 0\n",
      "ret: 0\n",
      "ret: 0\n",
      "ret: 0\n",
      "ret: 0\n",
      "ret: 0\n",
      "ret: 0\n",
      "ret: 0\n",
      "ret: 0\n",
      "ret: 0\n",
      "ret: 0\n",
      "ret: 0\n",
      "ret: 0\n",
      "ret: 0\n",
      "ret: 0\n",
      "ret: 0\n",
      "ret: 0\n",
      "ret: 0\n",
      "ret: 0\n",
      "ret: 0\n",
      "ret: 0\n",
      "ret: 0\n",
      "ret: 0\n",
      "ret: 0\n",
      "ret: 0\n",
      "ret: 0\n",
      "ret: 0\n",
      "ret: 0\n",
      "ret: 0\n",
      "ret: 0\n",
      "ret: 0\n",
      "ret: 0\n",
      "ret: 0\n",
      "ret: 0\n",
      "ret: 0\n",
      "ret: 0\n",
      "ret: 0\n",
      "ret: 0\n",
      "ret: 0\n",
      "ret: 0\n",
      "ret: 0\n",
      "ret: 0\n",
      "ret: 0\n",
      "ret: 0\n",
      "ret: 0\n",
      "ret: 0\n",
      "ret: 0\n",
      "ret: 0\n",
      "ret: 0\n",
      "ret: 0\n",
      "ret: 0\n",
      "ret: 0\n",
      "ret: 0\n",
      "ret: 0\n",
      "ret: 0\n",
      "ret: 0\n",
      "ret: 0\n",
      "ret: 0\n",
      "ret: 0\n",
      "ret: 0\n",
      "ret: 0\n",
      "ret: 0\n",
      "ret: 0\n",
      "ret: 0\n",
      "ret: 0\n",
      "ret: 0\n",
      "ret: 0\n",
      "ret: 0\n",
      "ret: 0\n",
      "ret: 0\n",
      "ret: 0\n",
      "ret: 0\n",
      "ret: 0\n",
      "ret: 0\n",
      "ret: 0\n",
      "ret: 0\n",
      "ret: 0\n",
      "ret: 0\n",
      "ret: 0\n",
      "ret: 0\n",
      "ret: 0\n",
      "ret: 0\n",
      "ret: 0\n",
      "ret: 0\n",
      "ret: 0\n",
      "ret: 0\n",
      "ret: 0\n",
      "ret: 0\n",
      "ret: 0\n",
      "ret: 0\n",
      "ret: 0\n",
      "ret: 0\n",
      "ret: 0\n",
      "ret: 0\n",
      "ret: 0\n",
      "ret: 0\n",
      "ret: 0\n",
      "ret: 0\n",
      "ret: 0\n",
      "ret: 0\n",
      "ret: 0\n",
      "ret: 0\n",
      "ret: 0\n",
      "ret: 0\n",
      "ret: 0\n",
      "ret: 0\n",
      "ret: 0\n",
      "ret: 0\n",
      "ret: 0\n",
      "ret: 0\n",
      "ret: 0\n",
      "ret: 0\n",
      "ret: 0\n",
      "ret: 0\n",
      "ret: 0\n",
      "ret: 0\n",
      "ret: 0\n",
      "ret: 0\n",
      "ret: 0\n",
      "ret: 0\n",
      "ret: 0\n",
      "ret: 0\n",
      "ret: 0\n",
      "ret: 0\n",
      "ret: 0\n",
      "ret: 0\n",
      "ret: 0\n",
      "ret: 0\n",
      "ret: 0\n",
      "ret: 0\n",
      "ret: 0\n",
      "ret: 0\n",
      "ret: 0\n",
      "ret: 0\n",
      "ret: 0\n",
      "ret: 0\n",
      "ret: 0\n",
      "ret: 0\n",
      "ret: 0\n",
      "ret: 0\n",
      "ret: 0\n",
      "ret: 0\n",
      "ret: 0\n",
      "ret: 0\n",
      "ret: 0\n",
      "ret: 0\n",
      "ret: 0\n",
      "ret: 0\n",
      "ret: 0\n",
      "ret: 0\n",
      "ret: 0\n",
      "ret: 0\n",
      "ret: 0\n",
      "ret: 0\n",
      "ret: 0\n",
      "ret: 0\n",
      "ret: 0\n",
      "ret: 0\n",
      "ret: 0\n",
      "ret: 0\n",
      "ret: 0\n",
      "ret: 0\n",
      "ret: 0\n",
      "ret: 0\n",
      "ret: 0\n",
      "ret: 0\n",
      "ret: 0\n",
      "ret: 0\n",
      "ret: 0\n",
      "ret: 0\n",
      "ret: 0\n",
      "ret: 0\n",
      "ret: 0\n",
      "ret: 0\n",
      "ret: 0\n",
      "ret: 0\n",
      "ret: 0\n",
      "ret: 0\n",
      "ret: 0\n",
      "ret: 0\n",
      "ret: 0\n",
      "ret: 0\n",
      "ret: 0\n",
      "ret: 0\n",
      "ret: 0\n",
      "ret: 0\n",
      "ret: 0\n",
      "ret: 0\n",
      "ret: 0\n",
      "ret: 0\n",
      "ret: 0\n",
      "ret: 0\n",
      "ret: 0\n",
      "ret: 0\n",
      "ret: 0\n",
      "ret: 0\n",
      "ret: 0\n",
      "ret: 256\n",
      "ret: 256\n",
      "ret: 0\n",
      "ret: 0\n",
      "ret: 0\n",
      "ret: 0\n",
      "ret: 0\n",
      "ret: 0\n",
      "ret: 0\n",
      "ret: 0\n",
      "ret: 0\n",
      "ret: 0\n",
      "ret: 0\n",
      "ret: 0\n",
      "ret: 0\n",
      "ret: 0\n",
      "ret: 0\n",
      "ret: 0\n",
      "ret: 0\n",
      "ret: 0\n",
      "ret: 0\n",
      "ret: 0\n",
      "ret: 0\n",
      "ret: 0\n",
      "ret: 0\n"
     ]
    },
    {
     "name": "stderr",
     "output_type": "stream",
     "text": [
      "sh: 1: kill: No such process\n",
      "\n",
      "sh: 1: kill: No such process\n",
      "\n"
     ]
    }
   ],
   "source": [
    "results = []\n",
    "for r in result:\n",
    "    r = r.split()[1]\n",
    "    ret = os.system('kill -9 {}'.format(r))\n",
    "    print('ret: {}'.format(ret))"
   ]
  },
  {
   "cell_type": "code",
   "execution_count": 3,
   "metadata": {},
   "outputs": [
    {
     "name": "stdout",
     "output_type": "stream",
     "text": [
      "nvcc fatal   : No input files specified; use option --help for more information\n"
     ]
    }
   ],
   "source": [
    "!nvcc -list-gpu-code"
   ]
  },
  {
   "cell_type": "code",
   "execution_count": 42,
   "metadata": {},
   "outputs": [
    {
     "name": "stdout",
     "output_type": "stream",
     "text": [
      "Device: cuda\n",
      "Current cuda device: 0\n",
      "Count of using GPUs: 1\n"
     ]
    }
   ],
   "source": [
    "device = torch.device(\"cuda\" if torch.cuda.is_available() else \"cpu\")\n",
    "\n",
    "print('Device:', device)\n",
    "print('Current cuda device:', torch.cuda.current_device())\n",
    "print('Count of using GPUs:', torch.cuda.device_count())"
   ]
  },
  {
   "cell_type": "code",
   "execution_count": 3,
   "metadata": {},
   "outputs": [],
   "source": [
    "import os\n",
    "data_root_path = '/AppData/scannet/'\n",
    "train_path = data_root_path + 'scans/'\n",
    "test_path = data_root_path + 'scans_test/'"
   ]
  },
  {
   "cell_type": "code",
   "execution_count": 4,
   "metadata": {},
   "outputs": [
    {
     "name": "stdout",
     "output_type": "stream",
     "text": [
      "root path:/AppData/scannet/\n",
      "train path:/AppData/scannet/scans/\n",
      "test path:/AppData/scannet/scans_test/\n"
     ]
    }
   ],
   "source": [
    "print('root path:' + data_root_path)\n",
    "print('train path:' + train_path)\n",
    "print('test path:' + test_path)"
   ]
  },
  {
   "cell_type": "code",
   "execution_count": 7,
   "metadata": {},
   "outputs": [],
   "source": [
    "import sys\n",
    "from SensorData import SensorData"
   ]
  },
  {
   "cell_type": "code",
   "execution_count": 8,
   "metadata": {},
   "outputs": [
    {
     "name": "stdout",
     "output_type": "stream",
     "text": [
      "['/AppData/scannet/scans/', '/AppData/scannet/scans_test/']\n"
     ]
    }
   ],
   "source": [
    "paths = [train_path, test_path]\n",
    "print(paths)"
   ]
  },
  {
   "cell_type": "code",
   "execution_count": 13,
   "metadata": {},
   "outputs": [
    {
     "name": "stdout",
     "output_type": "stream",
     "text": [
      "color lacks: 0\n",
      "depth lacks: 0\n",
      "intrinsic lacks: 0\n",
      "pose lacks: 0\n"
     ]
    }
   ],
   "source": [
    "color_lacks = []\n",
    "depth_lacks = []\n",
    "intrinsic_lacks = []\n",
    "pose_lacks = []\n",
    "\n",
    "for path in paths:\n",
    "    dirs = os.listdir(path)\n",
    "    for dir in dirs:\n",
    "        dir = path + dir\n",
    "        if not os.path.exists(os.path.join(dir, 'color')):\n",
    "            color_lacks.append(dir)\n",
    "        if not os.path.exists(os.path.join(dir, 'depth')):\n",
    "            depth_lacks.append(dir)\n",
    "        if not os.path.exists(os.path.join(dir, 'intrinsic')):\n",
    "            intrinsic_lacks.append(dir)\n",
    "        if not os.path.exists(os.path.join(dir, 'pose')):\n",
    "            pose_lacks.append(dir)\n",
    "\n",
    "print('color lacks: {}'.format(len(color_lacks)))\n",
    "print('depth lacks: {}'.format(len(depth_lacks)))\n",
    "print('intrinsic lacks: {}'.format(len(intrinsic_lacks)))\n",
    "print('pose lacks: {}'.format(len(pose_lacks)))"
   ]
  },
  {
   "cell_type": "code",
   "execution_count": 12,
   "metadata": {},
   "outputs": [
    {
     "name": "stdout",
     "output_type": "stream",
     "text": [
      "['/AppData/scannet/scans/scene0051_01']\n"
     ]
    }
   ],
   "source": [
    "print(intrinsic_lacks)"
   ]
  },
  {
   "cell_type": "code",
   "execution_count": 6,
   "metadata": {},
   "outputs": [
    {
     "name": "stdout",
     "output_type": "stream",
     "text": [
      "/AppData/scannet/\n",
      "/AppData/scannet/all_tsdf_9\n"
     ]
    }
   ],
   "source": [
    "save_name = 'all_tsdf_9'\n",
    "save_path = os.path.join(data_root_path, save_name)\n",
    "print(data_root_path)\n",
    "print(save_path)"
   ]
  },
  {
   "cell_type": "code",
   "execution_count": 14,
   "metadata": {},
   "outputs": [
    {
     "name": "stdout",
     "output_type": "stream",
     "text": [
      "number of scenes: 307\n",
      "5: ['scene0000_01', 'scene0000_02', 'scene0001_00', 'scene0001_01', 'scene0002_00']\n",
      "test size: 795\n"
     ]
    }
   ],
   "source": [
    "import pickle\n",
    "\n",
    "all_scenes = sorted(os.listdir(save_path))\n",
    "print('number of scenes: {}'.format(len(all_scenes)))\n",
    "print('5: {}'.format(all_scenes[3:3+5]))\n",
    "test = True\n",
    "# todo: fix for both train/val/test\n",
    "if not test:\n",
    "    splits = ['train', 'val']\n",
    "else:\n",
    "    splits = ['test']\n",
    "if not os.path.isdir(os.path.join(data_root_path, 'splits')):\n",
    "    os.mkdir(os.path.join(data_root_path, 'splits'))    \n",
    "for split in splits:\n",
    "    fragments = []\n",
    "    with open(os.path.join(data_root_path, 'splits', 'scannetv1_{}.txt'.format(split))) as f:\n",
    "        split_files = f.readlines()\n",
    "    for scene in all_scenes:\n",
    "        if 'scene' not in scene:\n",
    "            continue\n",
    "        if scene + '\\n' in split_files:\n",
    "            with open(os.path.join(save_path, scene, 'fragments.pkl'), 'rb') as f:\n",
    "                frag_scene = pickle.load(f)\n",
    "            fragments.extend(frag_scene)\n",
    "\n",
    "    with open(os.path.join(save_path, 'fragments_{}.pkl'.format(split)), 'wb') as f:\n",
    "        pickle.dump(fragments, f)\n",
    "        print('{} size: {}'.format(split, len(fragments)))"
   ]
  },
  {
   "cell_type": "code",
   "execution_count": null,
   "metadata": {},
   "outputs": [],
   "source": []
  }
 ],
 "metadata": {
  "interpreter": {
   "hash": "916dbcbb3f70747c44a77c7bcd40155683ae19c65e1c03b4aa3499c5328201f1"
  },
  "kernelspec": {
   "display_name": "Python 3.8.10 64-bit",
   "language": "python",
   "name": "python3"
  },
  "language_info": {
   "codemirror_mode": {
    "name": "ipython",
    "version": 3
   },
   "file_extension": ".py",
   "mimetype": "text/x-python",
   "name": "python",
   "nbconvert_exporter": "python",
   "pygments_lexer": "ipython3",
   "version": "3.8.10"
  },
  "orig_nbformat": 4
 },
 "nbformat": 4,
 "nbformat_minor": 2
}
